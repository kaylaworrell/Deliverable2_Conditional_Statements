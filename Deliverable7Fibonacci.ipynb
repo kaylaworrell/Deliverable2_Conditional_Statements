{
  "nbformat": 4,
  "nbformat_minor": 0,
  "metadata": {
    "colab": {
      "provenance": [],
      "authorship_tag": "ABX9TyPLfe4LHrfVa8PevfqVQhQ9"
    },
    "kernelspec": {
      "name": "python3",
      "display_name": "Python 3"
    },
    "language_info": {
      "name": "python"
    }
  },
  "cells": [
    {
      "cell_type": "code",
      "execution_count": 3,
      "metadata": {
        "colab": {
          "base_uri": "https://localhost:8080/"
        },
        "id": "MhuuidxER-d5",
        "outputId": "44c31534-1e36-4409-f698-15028a767aef"
      },
      "outputs": [
        {
          "output_type": "stream",
          "name": "stdout",
          "text": [
            "Enter an integer value greater than 0: 7\n",
            "-------------------------------------\n",
            "|     |  Even  |  Odd   | Fibonacci  |\n",
            "-------------------------------------\n",
            "|  0  |   0    |   1    |     0      |\n",
            "-------------------------------------\n",
            "|  1  |   2    |   3    |     1      |\n",
            "-------------------------------------\n",
            "|  2  |   4    |   5    |     1      |\n",
            "-------------------------------------\n",
            "|  3  |   6    |   7    |     2      |\n",
            "-------------------------------------\n",
            "|  4  |   8    |   9    |     3      |\n",
            "-------------------------------------\n",
            "|  5  |   10   |   11   |     5      |\n",
            "-------------------------------------\n",
            "|  6  |   12   |   13   |     8      |\n",
            "-------------------------------------\n"
          ]
        }
      ],
      "source": [
        "n = int(input(\"Enter an integer value greater than 0: \"))\n",
        "\n",
        "even_numbers = []\n",
        "odd_numbers = []\n",
        "fibonacci_numbers = [0,1]\n",
        "\n",
        "if n > 0:\n",
        "\n",
        "    for num in range(2,n+1):\n",
        "        fibonacci_numbers.append(fibonacci_numbers[num - 1] + fibonacci_numbers[num - 2])\n",
        "        \n",
        "    for number in range(n):\n",
        "        even_numbers.append(2*number)\n",
        "        odd_numbers.append(2*number+1)\n",
        "\n",
        "    print(\"-\"*37)\n",
        "    print(\"|{:^5}|{:^8}|{:^8}|{:^12}|\".format(\"\",\"Even\",\"Odd\",\"Fibonacci\"))\n",
        "    print(\"-\"*37)\n",
        "    \n",
        "    for index in range(n):\n",
        "        print(\"|{:^5}|{:^8}|{:^8}|{:^12}|\".format(index,even_numbers[index],odd_numbers[index],fibonacci_numbers[index]))\n",
        "        print(\"-\"*37)"
      ]
    }
  ]
}